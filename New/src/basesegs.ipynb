{
 "cells": [
  {
   "cell_type": "code",
   "execution_count": 1,
   "metadata": {},
   "outputs": [],
   "source": [
    "import os\n",
    "import sys\n",
    "import re\n",
    "import pandas as pd\n",
    "import numpy as np\n",
    "from enum import Enum\n",
    "import zipfile\n",
    "from typing import Optional, Union, List, Callable, Dict, Tuple\n",
    "from dataclasses import dataclass, make_dataclass, field\n",
    "from abc import ABC\n",
    "from importnb import Notebook\n",
    "\n",
    "PKG_ROOT = os.path.dirname(os.path.realpath(os.getcwd()))\n",
    "if not PKG_ROOT in sys.path:\n",
    "    sys.path.append(PKG_ROOT)"
   ]
  },
  {
   "cell_type": "code",
   "execution_count": null,
   "metadata": {},
   "outputs": [],
   "source": [
    "with Notebook():\n",
    "    from src.basestructs import *\n",
    "    from src.baseblocks import *"
   ]
  },
  {
   "cell_type": "code",
   "execution_count": 10,
   "metadata": {},
   "outputs": [],
   "source": [
    "class Globals(RecordsBlock):\n",
    "    \n",
    "    Pattern = RecordBase(segList=[('NAME', 32, str)\n",
    "                                 ,('TYPE', 2, int)\n",
    "                                 ,('REF', 2, int)\n",
    "                                 ,('DWORD', 4, int)\n",
    "                                 ,('INT', 4, int)\n",
    "                                 ,('DOUBEL', 8, int)\n",
    "                                 ,('SCRIPT', 32, str)])\n",
    "    \n",
    "    def __init__(self, *args, **kwargs):\n",
    "        super().__init__(*args, **kwargs)\n"
   ]
  },
  {
   "cell_type": "code",
   "execution_count": 11,
   "metadata": {},
   "outputs": [],
   "source": [
    "class KnownSpells(RecordsBlock):\n",
    "    \n",
    "    Pattern = RecordBase(segList=[('SPELL', 8, 'STRNAME')\n",
    "                                 ,('LEVEL', 2, int)\n",
    "                                 ,('TYPE', 2, int)])\n",
    "    \n",
    "    def __init__(self, *args, **kwargs):\n",
    "        super().__init__(*args, **kwargs)\n",
    "        self.Pattern.nameMap = self.savRef.SPELL\n",
    "        \n",
    "    def post_op(self):\n",
    "        self.df['LEVEL'] = self.Pattern.inverse_infer_col((self.Pattern.infer_col(self.df['LEVEL']) - 1).clip(0))\n",
    "        super().post_op()\n"
   ]
  },
  {
   "cell_type": "code",
   "execution_count": 12,
   "metadata": {},
   "outputs": [],
   "source": [
    "class SpellMemorization(RecordsBlock):\n",
    "    \n",
    "    Pattern = RecordBase(segList=[('LEVEL', 2, int)\n",
    "                                 ,('BASECOUNT', 2, int)\n",
    "                                 ,('EFFCOUNT', 2, int)\n",
    "                                 ,('TYPE', 2, int)\n",
    "                                 ,('INDEX', 4, int)\n",
    "                                 ,('COUNTMEM', 4, int)])\n",
    "    \n",
    "    def __init__(self, *args, **kwargs):\n",
    "        super().__init__(*args, **kwargs)\n",
    "        \n",
    "            \n",
    "    def post_op(self):\n",
    "        self.df['LEVEL'] = self.Pattern.inverse_infer_col((self.Pattern.infer_col(self.df['LEVEL']) - 1).clip(0))\n",
    "        self.df.sort_values(['TYPE', 'LEVEL'], inplace=True)\n",
    "        super().post_op()\n",
    "        \n",
    "    def update_mem(self, idf:pd.DataFrame):\n",
    "        '''\n",
    "        Update SpellMeorization info using he memorized spells. All memorization slot numbers matching the number of memorized spells (c.a. assuming all slots memorized)\n",
    "        '''\n",
    "        idf = self.Pattern.inverse_infer(idf)\n",
    "        self.df = pd.merge(self.df.drop(['COUNTMEM', 'INDEX'], axis=1), idf, how='left', left_on=['LEVEL', 'TYPE'], right_on=['LEVEL', 'TYPE'])\n",
    "        self.df.fillna(value={'INDEX': self.df['INDEX'].ffill().bfill()\n",
    "                              ,'COUNTMEM': b'\\x00\\x00\\x00\\x00'}, inplace=True)\n",
    "        self.df['BASECOUNT'] = self.df['COUNTMEM']\n",
    "        self.df['EFFCOUNT'] = self.df['COUNTMEM']\n"
   ]
  },
  {
   "cell_type": "code",
   "execution_count": 13,
   "metadata": {},
   "outputs": [],
   "source": [
    "class MemorizedSpells(RecordsBlock):\n",
    "    \n",
    "    TypeMap = {b'SPWI': 1\n",
    "              ,b'SPCL': 3\n",
    "              ,b'SPIN': 2\n",
    "              ,b'SPPR': 0\n",
    "              ,b'SPSD': 4}\n",
    "    \n",
    "    Pattern = RecordBase(segList=[('SPELL', 8,'STRNAME')\n",
    "                                 ,('COUNTMEM', 4, int)])\n",
    "    \n",
    "    def __init__(self, *args, **kwargs):\n",
    "        super().__init__(*args, **kwargs)\n",
    "        self.Pattern.nameMap = self.savRef.SPELL\n",
    "        \n",
    "    def post_op(self):\n",
    "        self.df.insert(0, 'TYPE', self.df['SPELL'].apply(lambda x: self.TypeMap.get(x[:4])))\n",
    "        self.df.insert(0, 'LEVEL', self.df['SPELL'].apply(lambda x: int(x[4:5])))\n",
    "        self.df = self.df.sort_values(['TYPE', 'LEVEL'])\n",
    "        idf = self.df.groupby(['TYPE', 'LEVEL'])['COUNTMEM'].count().reset_index()\n",
    "        idf.insert(idf.shape[1] - 1, 'INDEX', idf['COUNTMEM'].shift(fill_value=0).cumsum())\n",
    "        self.df = self.df.sort_values(['TYPE', 'LEVEL', 'SPELL']).drop(['TYPE', 'LEVEL'], axis=1).reset_index(drop=True)\n",
    "        self.parentRef.SpellMemorization.update_mem(idf)\n",
    "        super().post_op()\n"
   ]
  },
  {
   "cell_type": "code",
   "execution_count": 14,
   "metadata": {},
   "outputs": [],
   "source": [
    "class Effects(RecordsBlock):\n",
    "    Pattern = RecordBase(segList=[('NULL', 8, int)\n",
    "                                 ,('OPCODE', 4, 'INTNAME')\n",
    "                                 ,('TARGET', 4, int)\n",
    "                                 ,('POWER', 4, int)\n",
    "                                 ,('PARAM1', 4, int)\n",
    "                                 ,('PARAM2', 4, int)\n",
    "                                 ,('TIME', 4, int)\n",
    "                                 ,('OTHER', 232, None)]\n",
    "                         ,template=bytearray([0, 0, 0, 0, 0, 0, 0, 0, 233, 0, 0, 0, 0, 0, 0, 0, 0, 0, 0, 0, 2, 0, 0, 0, 95, \n",
    "                                              0, 0, 0, 9, 0, 0, 0, 0, 0, 0, 0, 100, 0, 0, 0, 0, 0, 0, 0, 0, 0, 0, 0, 0, 0, \n",
    "                                              0, 0, 0, 0, 0, 0, 0, 0, 0, 0, 0, 0, 0, 0, 0, 0, 0, 0, 0, 0, 0, 0, 0, 0, 0, 0, \n",
    "                                              0, 0, 0, 0, 0, 0, 0, 0, 0, 0, 0, 0, 0, 0, 0, 0, 0, 0, 0, 0, 0, 0, 0, 0, 0, 0, \n",
    "                                              0, 0, 0, 0, 0, 0, 0, 0, 0, 0, 0, 0, 0, 0, 0, 0, 0, 0, 255, 255, 255, 255, 255, \n",
    "                                              255, 255, 255, 255, 255, 255, 255, 255, 255, 255, 255, 0, 0, 0, 0, 0, 0, 0, 0, \n",
    "                                              0, 0, 0, 0, 0, 0, 0, 0, 0, 0, 0, 0, 255, 255, 255, 255, 0, 0, 0, 0, 0, 0, 0, 0, \n",
    "                                              0, 0, 0, 0, 0, 0, 0, 0, 0, 0, 0, 0, 0, 0, 0, 0, 0, 0, 0, 0, 0, 0, 0, 0, 0, 0, \n",
    "                                              0, 0, 1, 0, 0, 0, 0, 0, 0, 0, 0, 0, 0, 0, 0, 0, 0, 0, 0, 0, 0, 0, 0, 0, 0, 0, 0, \n",
    "                                              0, 0, 0, 0, 0, 0, 0, 0, 0, 0, 0, 0, 0, 0, 0, 0, 0, 0, 0, 0, 0, 0, 0, 0, 0, 0, 0, \n",
    "                                              0, 0, 0, 0, 0, 0, 0, 0, 0, 0, 0, 0, 0, 0, 0, 0]))\n",
    "    def __init__(self, *args, **kwargs):\n",
    "        super().__init__(*args, **kwargs)\n",
    "        self.Pattern.nameMap = self.savRef.EFFECT\n"
   ]
  },
  {
   "cell_type": "code",
   "execution_count": 15,
   "metadata": {},
   "outputs": [],
   "source": [
    "class Items(RecordsBlock):\n",
    "    \n",
    "    Pattern = RecordBase(segList=[('NAME', 8, 'STRNAME')\n",
    "                                 ,('EXPIRE', 1, int)\n",
    "                                 ,('ELAPSED', 1, int)\n",
    "                                 ,('QUALITY1', 2, int)\n",
    "                                 ,('QUALITY2', 2, int)\n",
    "                                 ,('QUALITY3', 2, int)\n",
    "                                 ,('IDENTIFIED', 1, int)\n",
    "                                 ,('UNSTEALABLE', 1, int)\n",
    "                                 ,('STOLEN', 1, int)\n",
    "                                 ,('UNDROPPABLE', 1, int)]\n",
    "                         ,template=b'CLCK30\\x00\\x00\\x00\\x00\\x01\\x00\\x00\\x00\\x00\\x00\\x01\\x00\\x00\\x00')\n",
    "    \n",
    "    def __init__(self, *args, **kwargs):\n",
    "        super().__init__(*args, **kwargs)\n",
    "        self.Pattern.nameMap = self.savRef.ITEM\n",
    "        \n",
    "    def post_op(self):\n",
    "        super().post_op()\n",
    "        self.parentRef.ItemSlots.place(self.display['NAME'])"
   ]
  },
  {
   "cell_type": "code",
   "execution_count": 16,
   "metadata": {},
   "outputs": [],
   "source": [
    "class ItemSlots(SegBlock):\n",
    "    \n",
    "    \n",
    "    def __init__(self, *args, **kwargs):\n",
    "        super().__init__(*args, **kwargs)\n",
    "        self.slots = {k: v.value.copy() for k, v in getattr(self.savRef, self.parentRef.parentRef.name.upper() + 'SLOTS').__members__.items()}\n",
    "        \n",
    "    def place(self, itms:pd.Series):\n",
    "        fill = [-1] * (max([max(_) for _ in self.slots.values()]) + 1)\n",
    "        bins = [_ for _ in self.slots.keys() if _ != 'NONE']\n",
    "        for i, itm in enumerate(itms):\n",
    "            slot = getattr(self.savRef.ITEMCONTAINER, itm).value\n",
    "            for cname in [slot, 'MISC', *bins]:\n",
    "                c = self.slots.get(cname)\n",
    "                if c is not None and len(c) > 0:\n",
    "                    fill[c.pop(0)] = i\n",
    "                    break\n",
    "        self.buffer = bytearray(b''.join([self.num2Bytes(_, length=2, signed=True) for _ in fill]))\n",
    "        \n",
    "            "
   ]
  }
 ],
 "metadata": {
  "kernelspec": {
   "display_name": "pyworks",
   "language": "python",
   "name": "python3"
  },
  "language_info": {
   "codemirror_mode": {
    "name": "ipython",
    "version": 3
   },
   "file_extension": ".py",
   "mimetype": "text/x-python",
   "name": "python",
   "nbconvert_exporter": "python",
   "pygments_lexer": "ipython3",
   "version": "3.8.13"
  },
  "orig_nbformat": 4,
  "vscode": {
   "interpreter": {
    "hash": "616803b2f19e1e9bcbf5ac8abb36b7fd12ef6319f5b436273684431f9aa2d3e3"
   }
  }
 },
 "nbformat": 4,
 "nbformat_minor": 2
}
