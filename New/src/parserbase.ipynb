{
 "cells": [
  {
   "cell_type": "code",
   "execution_count": 26,
   "metadata": {},
   "outputs": [],
   "source": [
    "import os\n",
    "import sys\n",
    "import re\n",
    "import pandas as pd\n",
    "import numpy as np\n",
    "from enum import Enum\n",
    "from typing import Optional, Union, List, Callable\n",
    "from dataclasses import dataclass\n",
    "\n",
    "PKG_ROOT = os.path.dirname(os.path.realpath(os.getcwd()))\n",
    "if not PKG_ROOT in sys.path:\n",
    "    sys.path.append(PKG_ROOT)"
   ]
  },
  {
   "cell_type": "code",
   "execution_count": 27,
   "metadata": {},
   "outputs": [],
   "source": [
    "@dataclass\n",
    "class SegBase:\n",
    "    \n",
    "    buffer: bytearray\n",
    "    pos: int\n",
    "    length: int\n",
    "    signed: bool=False\n",
    "    order: str='little'\n",
    "    skiphead: int=0\n",
    "    skiptail: int=0\n",
    "    \n",
    "    @staticmethod\n",
    "    def bytes2Num(barray, signed:bool=False, order:str='little'):\n",
    "        return int.from_bytes(barray, signed=signed, byteorder=order)\n",
    "    \n",
    "    @staticmethod\n",
    "    def num2Bytes(num, length, signed=False, order='little'):\n",
    "        return num.to_bytes(length, signed=signed, byteorder=order)\n",
    "    \n",
    "    def get_bytes(self):\n",
    "        return self.buffer[self.pos+self.skiphead\n",
    "                          :self.pos+self.skiphead-self.skiptail]\n",
    "        \n",
    "    def get_value(self):\n",
    "        return self.bytes2Num(self.get_bytes(), self.signed, self.order)\n",
    "    \n",
    "    def get_string(self):\n",
    "        s = self.get_bytes()\n",
    "        p = np.argmax(np.logical_and(np.array(s) > 127\n",
    "                                     ,np.array(s) < 32))\n",
    "        return str(s[:p], encoding='latin')\n",
    "    \n",
    "    def set_value(self, value:Union[int, Enum]):\n",
    "        if hasattr(value, 'value'):\n",
    "            value = value.value\n",
    "        self.buffer[self.pos+self.skiphead\n",
    "                   :self.pos+self.skiphead-self.skiptail] = self.num2Bytes(value, self.length, self.signed, self.order) \n",
    "            \n",
    "    def inc_value(self, inc_value:int=1):\n",
    "        self.set_value(self.get_value() + inc_value)\n",
    "    "
   ]
  }
 ],
 "metadata": {
  "kernelspec": {
   "display_name": "pyworks",
   "language": "python",
   "name": "python3"
  },
  "language_info": {
   "codemirror_mode": {
    "name": "ipython",
    "version": 3
   },
   "file_extension": ".py",
   "mimetype": "text/x-python",
   "name": "python",
   "nbconvert_exporter": "python",
   "pygments_lexer": "ipython3",
   "version": "3.8.13"
  },
  "orig_nbformat": 4,
  "vscode": {
   "interpreter": {
    "hash": "616803b2f19e1e9bcbf5ac8abb36b7fd12ef6319f5b436273684431f9aa2d3e3"
   }
  }
 },
 "nbformat": 4,
 "nbformat_minor": 2
}
