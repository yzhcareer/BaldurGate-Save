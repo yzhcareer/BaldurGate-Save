{
 "cells": [
  {
   "cell_type": "code",
   "execution_count": 33,
   "metadata": {},
   "outputs": [],
   "source": [
    "import os\n",
    "import sys\n",
    "import re\n",
    "import pandas as pd\n",
    "import numpy as np\n",
    "from enum import Enum\n",
    "from typing import Optional, Union, List, Callable\n",
    "from dataclasses import dataclass, make_dataclass, field\n",
    "\n",
    "PKG_ROOT = os.path.dirname(os.path.realpath(os.getcwd()))\n",
    "if not PKG_ROOT in sys.path:\n",
    "    sys.path.append(PKG_ROOT)"
   ]
  },
  {
   "cell_type": "code",
   "execution_count": 27,
   "metadata": {},
   "outputs": [],
   "source": [
    "@dataclass\n",
    "class ValueBase:\n",
    "    \n",
    "    buffer: bytearray\n",
    "    pos: int\n",
    "    length: int\n",
    "    signed: bool=False\n",
    "    order: str='little'\n",
    "    skiphead: int=0\n",
    "    skiptail: int=0\n",
    "    \n",
    "    @staticmethod\n",
    "    def bytes2Num(barray, signed:bool=False, order:str='little'):\n",
    "        return int.from_bytes(barray, signed=signed, byteorder=order)\n",
    "    \n",
    "    @staticmethod\n",
    "    def num2Bytes(num, length, signed=False, order='little'):\n",
    "        return num.to_bytes(length, signed=signed, byteorder=order)\n",
    "    \n",
    "    def get_bytes(self):\n",
    "        return self.buffer[self.pos+self.skiphead\n",
    "                          :self.pos+self.skiphead-self.skiptail]\n",
    "        \n",
    "    def get_value(self):\n",
    "        return self.bytes2Num(self.get_bytes(), self.signed, self.order)\n",
    "    \n",
    "    def get_string(self):\n",
    "        s = self.get_bytes()\n",
    "        p = np.argmax(np.logical_and(np.array(s) > 127\n",
    "                                     ,np.array(s) < 32))\n",
    "        return str(s[:p], encoding='latin')\n",
    "    \n",
    "    def set_value(self, value:Union[int, Enum]):\n",
    "        if hasattr(value, 'value'):\n",
    "            value = value.value\n",
    "        self.buffer[self.pos+self.skiphead\n",
    "                   :self.pos+self.skiphead-self.skiptail] = self.num2Bytes(value, self.length, self.signed, self.order) \n",
    "            \n",
    "    def inc_value(self, inc_value:int=1):\n",
    "        self.set_value(self.get_value() + inc_value)\n",
    "    "
   ]
  },
  {
   "cell_type": "code",
   "execution_count": null,
   "metadata": {},
   "outputs": [],
   "source": []
  },
  {
   "cell_type": "code",
   "execution_count": 34,
   "metadata": {},
   "outputs": [],
   "source": [
    "def make_names_old(name:str, df:pd.DataFrame):\n",
    "    '''\n",
    "    Construct dataclass or nested dataclass from a dataframe\n",
    "    '''\n",
    "    if df.shape[1] == 2:\n",
    "        data = [(_[1], str, field(default=_[0])) for _ in df.values]\n",
    "        return make_dataclass(name, data)\n",
    "    else:\n",
    "        group = df.groupby(df.columns[0])\n",
    "        data = [(k, dataclass, field(default=make_names_old(k, v.drop(v.columns[0], axis=1)))) for k, v in group]\n",
    "        return make_dataclass(name, data)"
   ]
  },
  {
   "cell_type": "code",
   "execution_count": null,
   "metadata": {},
   "outputs": [],
   "source": [
    "def make_names_(name:str, df:pd.DataFrame):\n",
    "    '''\n",
    "    Construct dataclass or nested dataclass from a dataframe\n",
    "    '''\n",
    "    if df.shape[1] == 2:\n",
    "        data = [(_[1], str, field(default=_[0])) for _ in df.values]\n",
    "        return make_dataclass(name, data)\n",
    "    else:\n",
    "        group = df.groupby(df.columns[0])\n",
    "        if group.ngroups == 1:\n",
    "            return make_names_(name, df.drop(df.columns[0], axis=1))\n",
    "        data = [(k, dataclass, field(default=make_names_(k, v.drop(v.columns[0], axis=1)))) for k, v in group]\n",
    "        return make_dataclass(name, data)\n",
    "    \n",
    "def make_names(name:str, df:pd.DataFrame, ignore_cols:List=[]):\n",
    "    return make_names_(name=name, df=df[[_ for _ in df.columns if not _ in ignore_cols]])"
   ]
  },
  {
   "cell_type": "code",
   "execution_count": null,
   "metadata": {},
   "outputs": [],
   "source": [
    "def clean_duplicates(df:pd.DataFrame, groupby:Optional[Union[List, str]]=None):\n",
    "    if groupby is None:\n",
    "        col = df.columns[-1]\n",
    "        df = df.groupby(col).apply(lambda x: x.reset_index())\n",
    "        if df.index.nlevels > 1:\n",
    "            df = df.droplevel(0)\n",
    "        df[col] = df.apply(lambda x: f'{re.sub(\"_+\", \"_\", x[col])}{(\"_\" + str(x.name)) if x.name > 0 else \"\"}', axis=1)\n",
    "        return df.reset_index(drop=True).drop('index', axis=1)\n",
    "    else:\n",
    "        return df.groupby(groupby).apply(clean_duplicates).reset_index(drop=True)"
   ]
  }
 ],
 "metadata": {
  "kernelspec": {
   "display_name": "pyworks",
   "language": "python",
   "name": "python3"
  },
  "language_info": {
   "codemirror_mode": {
    "name": "ipython",
    "version": 3
   },
   "file_extension": ".py",
   "mimetype": "text/x-python",
   "name": "python",
   "nbconvert_exporter": "python",
   "pygments_lexer": "ipython3",
   "version": "3.8.13 (default, Mar 28 2022, 06:16:26) \n[Clang 12.0.0 ]"
  },
  "orig_nbformat": 4,
  "vscode": {
   "interpreter": {
    "hash": "616803b2f19e1e9bcbf5ac8abb36b7fd12ef6319f5b436273684431f9aa2d3e3"
   }
  }
 },
 "nbformat": 4,
 "nbformat_minor": 2
}
