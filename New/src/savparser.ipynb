{
 "cells": [
  {
   "cell_type": "code",
   "execution_count": 1,
   "metadata": {},
   "outputs": [],
   "source": [
    "import os\n",
    "import sys\n",
    "from importnb import Notebook\n",
    "import re\n",
    "import pandas as pd\n",
    "import numpy as np\n",
    "import zipfile\n",
    "from enum import Enum\n",
    "import zlib\n",
    "from dataclasses import dataclass, make_dataclass, field\n",
    "from typing import Optional, Union, List, Callable\n",
    "from bs4 import BeautifulSoup\n",
    "\n",
    "PKG_ROOT = os.path.dirname(os.path.realpath(os.getcwd()))\n",
    "if not PKG_ROOT in sys.path:\n",
    "    sys.path.append(PKG_ROOT)\n",
    "    \n",
    "with Notebook():\n",
    "    from src.parserbase import *"
   ]
  },
  {
   "cell_type": "code",
   "execution_count": 2,
   "metadata": {},
   "outputs": [],
   "source": [
    "class Sav(GamCreBase):\n",
    "    \n",
    "    def __init__(self, savefile:str, game:str='BGEE'):\n",
    "        self.savefile = os.path.join(PKG_ROOT, 'saves', 'original', savefile)\n",
    "        resourceDir = os.path.join(PKG_ROOT, 'resources', game)\n",
    "        self.zipfile = zipfile.ZipFile(self.savefile)\n",
    "        self.filelist = self.zipfile.namelist()\n",
    "        self.files = [self.zipfile.read(_) for _ in self.filelist]\n",
    "        self.gamStr = self.files[1].decode('latin')\n",
    "        self.gamBuffer = bytearray(self.files[1])\n",
    "        self.gamVersion = re.findall(r'GAME\\s*V\\d+\\.\\d+', self.gamStr)[0]  #always 'GAMEV2.0'\n",
    "        self.creVersion = re.findall(r'CRE\\s*V\\d+\\.\\d+', self.gamStr)[0]  #always 'CRE V1.0'\n",
    "        self.GAM = GAM(resourceDir=resourceDir, buffer=self.gamBuffer)\n",
    "        \n",
    "        \n",
    "        "
   ]
  },
  {
   "cell_type": "code",
   "execution_count": 12,
   "metadata": {},
   "outputs": [
    {
     "ename": "AttributeError",
     "evalue": "'GAM' object has no attribute 'bufferSize'",
     "output_type": "error",
     "traceback": [
      "\u001b[0;31m---------------------------------------------------------------------------\u001b[0m",
      "\u001b[0;31mAttributeError\u001b[0m                            Traceback (most recent call last)",
      "\u001b[1;32m/Users/CIDER/工作/Python程序/游戏/博德之门/New/src/savparser.ipynb Cell 3\u001b[0m in \u001b[0;36m<cell line: 1>\u001b[0;34m()\u001b[0m\n\u001b[0;32m----> <a href='vscode-notebook-cell:/Users/CIDER/%E5%B7%A5%E4%BD%9C/Python%E7%A8%8B%E5%BA%8F/%E6%B8%B8%E6%88%8F/%E5%8D%9A%E5%BE%B7%E4%B9%8B%E9%97%A8/New/src/savparser.ipynb#W2sZmlsZQ%3D%3D?line=0'>1</a>\u001b[0m s \u001b[39m=\u001b[39m Sav(\u001b[39m'\u001b[39;49m\u001b[39mTESTSAVE.bg1save\u001b[39;49m\u001b[39m'\u001b[39;49m, \u001b[39m'\u001b[39;49m\u001b[39mBGEE\u001b[39;49m\u001b[39m'\u001b[39;49m)\n",
      "File \u001b[0;32m~/工作/Python程序/游戏/博德之门/New/src/parserbase.ipynb:507\u001b[0m, in \u001b[0;36mSav.__init__\u001b[0;34m(self, savefile, game)\u001b[0m\n\u001b[1;32m    505\u001b[0m \u001b[39mself\u001b[39m\u001b[39m.\u001b[39mgamVersion \u001b[39m=\u001b[39m re\u001b[39m.\u001b[39mfindall(\u001b[39mr\u001b[39m\u001b[39m'\u001b[39m\u001b[39mGAME\u001b[39m\u001b[39m\\\u001b[39m\u001b[39ms*V\u001b[39m\u001b[39m\\\u001b[39m\u001b[39md+\u001b[39m\u001b[39m\\\u001b[39m\u001b[39m.\u001b[39m\u001b[39m\\\u001b[39m\u001b[39md+\u001b[39m\u001b[39m'\u001b[39m, \u001b[39mself\u001b[39m\u001b[39m.\u001b[39mgamStr)[\u001b[39m0\u001b[39m]  \u001b[39m#always 'GAMEV2.0'\u001b[39;00m\n\u001b[1;32m    506\u001b[0m \u001b[39mself\u001b[39m\u001b[39m.\u001b[39mcreVersion \u001b[39m=\u001b[39m re\u001b[39m.\u001b[39mfindall(\u001b[39mr\u001b[39m\u001b[39m'\u001b[39m\u001b[39mCRE\u001b[39m\u001b[39m\\\u001b[39m\u001b[39ms*V\u001b[39m\u001b[39m\\\u001b[39m\u001b[39md+\u001b[39m\u001b[39m\\\u001b[39m\u001b[39m.\u001b[39m\u001b[39m\\\u001b[39m\u001b[39md+\u001b[39m\u001b[39m'\u001b[39m, \u001b[39mself\u001b[39m\u001b[39m.\u001b[39mgamStr)[\u001b[39m0\u001b[39m]  \u001b[39m#always 'CRE V1.0'\u001b[39;00m\n\u001b[0;32m--> 507\u001b[0m \u001b[39mself\u001b[39m\u001b[39m.\u001b[39mGAM \u001b[39m=\u001b[39m GAM(resourceDir\u001b[39m=\u001b[39;49mresourceDir, buffer\u001b[39m=\u001b[39;49m\u001b[39mself\u001b[39;49m\u001b[39m.\u001b[39;49mgamBuffer)\n",
      "File \u001b[0;32m~/工作/Python程序/游戏/博德之门/New/src/parserbase.ipynb:451\u001b[0m, in \u001b[0;36mGAM.__init__\u001b[0;34m(self, resourceDir, buffer)\u001b[0m\n\u001b[1;32m    449\u001b[0m \u001b[39mself\u001b[39m\u001b[39m.\u001b[39mVALUES \u001b[39m=\u001b[39m make_dataclass(\u001b[39m'\u001b[39m\u001b[39mSEGS\u001b[39m\u001b[39m'\u001b[39m, [])\n\u001b[1;32m    450\u001b[0m \u001b[39mself\u001b[39m\u001b[39m.\u001b[39mSEGS \u001b[39m=\u001b[39m pd\u001b[39m.\u001b[39mSeries([], dtype\u001b[39m=\u001b[39m\u001b[39mobject\u001b[39m)\n\u001b[0;32m--> 451\u001b[0m \u001b[39mself\u001b[39;49m\u001b[39m.\u001b[39;49minitiate_seg_size()\n\u001b[1;32m    452\u001b[0m \u001b[39mself\u001b[39m\u001b[39m.\u001b[39minit_values()\n\u001b[1;32m    453\u001b[0m \u001b[39mself\u001b[39m\u001b[39m.\u001b[39minit_segs()\n",
      "File \u001b[0;32m~/工作/Python程序/游戏/博德之门/New/src/parserbase.ipynb:377\u001b[0m, in \u001b[0;36mGamCreBase.initiate_seg_size\u001b[0;34m(self)\u001b[0m\n\u001b[1;32m    374\u001b[0m offsets \u001b[39m=\u001b[39m offsets[\u001b[39m'\u001b[39m\u001b[39mOffsetLoc\u001b[39m\u001b[39m'\u001b[39m]\u001b[39m.\u001b[39mapply(\u001b[39mlambda\u001b[39;00m x: \u001b[39mself\u001b[39m\u001b[39m.\u001b[39mbytes2Num(\u001b[39mself\u001b[39m\u001b[39m.\u001b[39mbuffer[\u001b[39mself\u001b[39m\u001b[39m.\u001b[39mto_int(x)\n\u001b[1;32m    375\u001b[0m                                                                          :\u001b[39mself\u001b[39m\u001b[39m.\u001b[39mto_int(x) \u001b[39m+\u001b[39m \u001b[39m4\u001b[39m]))\u001b[39m.\u001b[39msort_values()\n\u001b[1;32m    376\u001b[0m nonZeroOffsets \u001b[39m=\u001b[39m pd\u001b[39m.\u001b[39mconcat([pd\u001b[39m.\u001b[39mSeries([\u001b[39m0\u001b[39m]), offsets[offsets\u001b[39m!=\u001b[39m\u001b[39m0\u001b[39m]])\n\u001b[0;32m--> 377\u001b[0m nonZeroOffsets[nonZeroOffsets \u001b[39m>\u001b[39m \u001b[39mself\u001b[39m\u001b[39m.\u001b[39mbufferSize] \u001b[39m=\u001b[39m \u001b[39mself\u001b[39;49m\u001b[39m.\u001b[39;49mbufferSize\n\u001b[1;32m    378\u001b[0m lengths \u001b[39m=\u001b[39m pd\u001b[39m.\u001b[39mconcat([offsets[offsets\u001b[39m==\u001b[39m\u001b[39m0\u001b[39m], nonZeroOffsets\u001b[39m.\u001b[39mshift(\u001b[39m-\u001b[39m\u001b[39m1\u001b[39m, fill_value\u001b[39m=\u001b[39m\u001b[39mself\u001b[39m\u001b[39m.\u001b[39mbufferSize) \u001b[39m-\u001b[39m nonZeroOffsets])\n\u001b[1;32m    379\u001b[0m \u001b[39mself\u001b[39m\u001b[39m.\u001b[39msegRecords\u001b[39m.\u001b[39mupdate(lengths\u001b[39m.\u001b[39msort_index()\u001b[39m.\u001b[39mrename(\u001b[39m'\u001b[39m\u001b[39mSizeValue\u001b[39m\u001b[39m'\u001b[39m)\u001b[39m.\u001b[39mto_frame())\n",
      "\u001b[0;31mAttributeError\u001b[0m: 'GAM' object has no attribute 'bufferSize'"
     ]
    }
   ],
   "source": [
    "s = Sav('TESTSAVE.bg1save', 'BGEE')"
   ]
  },
  {
   "cell_type": "code",
   "execution_count": 2,
   "metadata": {},
   "outputs": [],
   "source": [
    "gamseg_df = pd.read_csv(os.path.join(PKG_ROOT,'resources', 'bgee', 'gamsegs.csv'), index_col=0)\n",
    "creseg_df = pd.read_csv(os.path.join(PKG_ROOT,'resources', 'bgee', 'cresegs.csv'), index_col=0)\n",
    "cretable_df = pd.read_csv(os.path.join(PKG_ROOT,'resources', 'bgee', 'cretables.csv'), index_col=0)\n",
    "res_df = pd.read_csv(os.path.join(PKG_ROOT,'resources', 'formats', 'refkeywords.csv'), index_col=0)"
   ]
  },
  {
   "cell_type": "code",
   "execution_count": 10,
   "metadata": {},
   "outputs": [
    {
     "data": {
      "text/html": [
       "<div>\n",
       "<style scoped>\n",
       "    .dataframe tbody tr th:only-of-type {\n",
       "        vertical-align: middle;\n",
       "    }\n",
       "\n",
       "    .dataframe tbody tr th {\n",
       "        vertical-align: top;\n",
       "    }\n",
       "\n",
       "    .dataframe thead th {\n",
       "        text-align: right;\n",
       "    }\n",
       "</style>\n",
       "<table border=\"1\" class=\"dataframe\">\n",
       "  <thead>\n",
       "    <tr style=\"text-align: right;\">\n",
       "      <th></th>\n",
       "      <th>SubSegs</th>\n",
       "      <th>CountLoc</th>\n",
       "      <th>OffsetLoc</th>\n",
       "      <th>SizeLoc</th>\n",
       "      <th>SizeValue</th>\n",
       "      <th>CountValue</th>\n",
       "    </tr>\n",
       "  </thead>\n",
       "  <tbody>\n",
       "    <tr>\n",
       "      <th>0</th>\n",
       "      <td>Header</td>\n",
       "      <td>NaN</td>\n",
       "      <td>NaN</td>\n",
       "      <td>NaN</td>\n",
       "      <td>180.0</td>\n",
       "      <td>NaN</td>\n",
       "    </tr>\n",
       "    <tr>\n",
       "      <th>1</th>\n",
       "      <td>Party</td>\n",
       "      <td>0x0024</td>\n",
       "      <td>0x0020</td>\n",
       "      <td>NaN</td>\n",
       "      <td>NaN</td>\n",
       "      <td>NaN</td>\n",
       "    </tr>\n",
       "    <tr>\n",
       "      <th>2</th>\n",
       "      <td>Inventory</td>\n",
       "      <td>0x002c</td>\n",
       "      <td>0x0028</td>\n",
       "      <td>NaN</td>\n",
       "      <td>NaN</td>\n",
       "      <td>NaN</td>\n",
       "    </tr>\n",
       "    <tr>\n",
       "      <th>3</th>\n",
       "      <td>NPC</td>\n",
       "      <td>0x0034</td>\n",
       "      <td>0x0030</td>\n",
       "      <td>NaN</td>\n",
       "      <td>NaN</td>\n",
       "      <td>NaN</td>\n",
       "    </tr>\n",
       "    <tr>\n",
       "      <th>4</th>\n",
       "      <td>Global</td>\n",
       "      <td>0x003c</td>\n",
       "      <td>0x0038</td>\n",
       "      <td>NaN</td>\n",
       "      <td>NaN</td>\n",
       "      <td>NaN</td>\n",
       "    </tr>\n",
       "    <tr>\n",
       "      <th>5</th>\n",
       "      <td>Journal</td>\n",
       "      <td>0x004c</td>\n",
       "      <td>0x0050</td>\n",
       "      <td>NaN</td>\n",
       "      <td>NaN</td>\n",
       "      <td>NaN</td>\n",
       "    </tr>\n",
       "    <tr>\n",
       "      <th>6</th>\n",
       "      <td>FamiliarInfo</td>\n",
       "      <td>NaN</td>\n",
       "      <td>0x0068</td>\n",
       "      <td>NaN</td>\n",
       "      <td>400.0</td>\n",
       "      <td>NaN</td>\n",
       "    </tr>\n",
       "    <tr>\n",
       "      <th>7</th>\n",
       "      <td>StoredLocations</td>\n",
       "      <td>0x0070</td>\n",
       "      <td>0x006c</td>\n",
       "      <td>NaN</td>\n",
       "      <td>NaN</td>\n",
       "      <td>NaN</td>\n",
       "    </tr>\n",
       "    <tr>\n",
       "      <th>8</th>\n",
       "      <td>PocketPlane</td>\n",
       "      <td>0x007c</td>\n",
       "      <td>0x0078</td>\n",
       "      <td>NaN</td>\n",
       "      <td>NaN</td>\n",
       "      <td>NaN</td>\n",
       "    </tr>\n",
       "    <tr>\n",
       "      <th>9</th>\n",
       "      <td>FamiliarExtra</td>\n",
       "      <td>NaN</td>\n",
       "      <td>0x0048</td>\n",
       "      <td>NaN</td>\n",
       "      <td>648.0</td>\n",
       "      <td>NaN</td>\n",
       "    </tr>\n",
       "  </tbody>\n",
       "</table>\n",
       "</div>"
      ],
      "text/plain": [
       "           SubSegs CountLoc OffsetLoc  SizeLoc  SizeValue  CountValue\n",
       "0           Header      NaN       NaN      NaN      180.0         NaN\n",
       "1            Party   0x0024    0x0020      NaN        NaN         NaN\n",
       "2        Inventory   0x002c    0x0028      NaN        NaN         NaN\n",
       "3              NPC   0x0034    0x0030      NaN        NaN         NaN\n",
       "4           Global   0x003c    0x0038      NaN        NaN         NaN\n",
       "5          Journal   0x004c    0x0050      NaN        NaN         NaN\n",
       "6     FamiliarInfo      NaN    0x0068      NaN      400.0         NaN\n",
       "7  StoredLocations   0x0070    0x006c      NaN        NaN         NaN\n",
       "8      PocketPlane   0x007c    0x0078      NaN        NaN         NaN\n",
       "9    FamiliarExtra      NaN    0x0048      NaN      648.0         NaN"
      ]
     },
     "execution_count": 10,
     "metadata": {},
     "output_type": "execute_result"
    }
   ],
   "source": [
    "gamseg_df"
   ]
  },
  {
   "cell_type": "code",
   "execution_count": 11,
   "metadata": {},
   "outputs": [
    {
     "ename": "NameError",
     "evalue": "name 's' is not defined",
     "output_type": "error",
     "traceback": [
      "\u001b[0;31m---------------------------------------------------------------------------\u001b[0m",
      "\u001b[0;31mNameError\u001b[0m                                 Traceback (most recent call last)",
      "\u001b[1;32m/Users/CIDER/工作/Python程序/游戏/博德之门/New/src/savparser.ipynb Cell 6\u001b[0m in \u001b[0;36m<cell line: 1>\u001b[0;34m()\u001b[0m\n\u001b[0;32m----> <a href='vscode-notebook-cell:/Users/CIDER/%E5%B7%A5%E4%BD%9C/Python%E7%A8%8B%E5%BA%8F/%E6%B8%B8%E6%88%8F/%E5%8D%9A%E5%BE%B7%E4%B9%8B%E9%97%A8/New/src/savparser.ipynb#X11sZmlsZQ%3D%3D?line=0'>1</a>\u001b[0m s\u001b[39m.\u001b[39mGAM\u001b[39m.\u001b[39mSEGS\n",
      "\u001b[0;31mNameError\u001b[0m: name 's' is not defined"
     ]
    }
   ],
   "source": [
    "s.GAM.SEGS"
   ]
  },
  {
   "cell_type": "code",
   "execution_count": null,
   "metadata": {},
   "outputs": [],
   "source": []
  }
 ],
 "metadata": {
  "kernelspec": {
   "display_name": "pyworks",
   "language": "python",
   "name": "python3"
  },
  "language_info": {
   "codemirror_mode": {
    "name": "ipython",
    "version": 3
   },
   "file_extension": ".py",
   "mimetype": "text/x-python",
   "name": "python",
   "nbconvert_exporter": "python",
   "pygments_lexer": "ipython3",
   "version": "3.8.13"
  },
  "orig_nbformat": 4,
  "vscode": {
   "interpreter": {
    "hash": "616803b2f19e1e9bcbf5ac8abb36b7fd12ef6319f5b436273684431f9aa2d3e3"
   }
  }
 },
 "nbformat": 4,
 "nbformat_minor": 2
}
