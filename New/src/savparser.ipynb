{
 "cells": [
  {
   "cell_type": "code",
   "execution_count": 183,
   "metadata": {},
   "outputs": [],
   "source": [
    "import os\n",
    "import sys\n",
    "from importnb import Notebook\n",
    "import re\n",
    "import pandas as pd\n",
    "import numpy as np\n",
    "import zipfile\n",
    "from enum import Enum\n",
    "import zlib\n",
    "from dataclasses import dataclass, make_dataclass, field\n",
    "from typing import Optional, Union, List\n",
    "\n",
    "PKG_ROOT = os.path.dirname(os.path.realpath(os.getcwd()))\n",
    "if not PKG_ROOT in sys.path:\n",
    "    sys.path.append(PKG_ROOT)\n",
    "    \n",
    "with Notebook():\n",
    "    from src.parserbase import SegBase, make_names, clean_duplicates"
   ]
  },
  {
   "cell_type": "code",
   "execution_count": 2,
   "metadata": {},
   "outputs": [],
   "source": [
    "class Sav:\n",
    "    \n",
    "    def __init__(self, filename:str):\n",
    "        self.filename = os.path.join(PKG_ROOT, 'saves', 'original', filename)\n",
    "        self.zipfile = zipfile.ZipFile(self.filename)\n",
    "        self.filelist = self.zipfile.namelist()\n",
    "        self.files = [self.zipfile.read(_) for _ in self.filelist]\n",
    "        self.gam_str = self.files[1].decode('latin')\n",
    "        self.gam_version = re.findall(r'GAME\\s*V\\d+\\.\\d+', self.gam_str)[0]  #always 'GAMEV2.0'\n",
    "        self.cre_version = re.findall(r'CRE\\s*V\\d+\\.\\d+', self.gam_str)[0]  #always 'CRE V1.0'\n",
    "        \n",
    "        "
   ]
  },
  {
   "cell_type": "code",
   "execution_count": 45,
   "metadata": {},
   "outputs": [],
   "source": [
    "a = Sav('pstsave.pstsave')"
   ]
  },
  {
   "cell_type": "code",
   "execution_count": 409,
   "metadata": {},
   "outputs": [],
   "source": [
    "f = os.path.join(PKG_ROOT, 'resources', 'BGEE', 'item.csv')\n",
    "itemdf = pd.read_csv(f, index_col=0)\n"
   ]
  },
  {
   "cell_type": "code",
   "execution_count": 410,
   "metadata": {},
   "outputs": [],
   "source": [
    "m = itemdf[['Category', 'ItemSlot']].set_index('Category').to_dict()['ItemSlot']"
   ]
  },
  {
   "cell_type": "code",
   "execution_count": 442,
   "metadata": {},
   "outputs": [],
   "source": [
    "df = pd.read_csv(os.path.join(PKG_ROOT, 'resources', 'iwd', 'item.csv'), index_col=0)"
   ]
  }
 ],
 "metadata": {
  "kernelspec": {
   "display_name": "pyworks",
   "language": "python",
   "name": "python3"
  },
  "language_info": {
   "codemirror_mode": {
    "name": "ipython",
    "version": 3
   },
   "file_extension": ".py",
   "mimetype": "text/x-python",
   "name": "python",
   "nbconvert_exporter": "python",
   "pygments_lexer": "ipython3",
   "version": "3.8.13"
  },
  "orig_nbformat": 4,
  "vscode": {
   "interpreter": {
    "hash": "616803b2f19e1e9bcbf5ac8abb36b7fd12ef6319f5b436273684431f9aa2d3e3"
   }
  }
 },
 "nbformat": 4,
 "nbformat_minor": 2
}
