{
 "cells": [
  {
   "cell_type": "code",
   "execution_count": 10,
   "metadata": {},
   "outputs": [],
   "source": [
    "import os\n",
    "import sys\n",
    "from importnb import Notebook\n",
    "import re\n",
    "import pandas as pd\n",
    "import numpy as np\n",
    "import zipfile\n",
    "from enum import Enum\n",
    "import zlib\n",
    "\n",
    "PKG_ROOT = os.path.dirname(os.path.realpath(os.getcwd()))\n",
    "if not PKG_ROOT in sys.path:\n",
    "    sys.path.append(PKG_ROOT)\n",
    "    \n",
    "with Notebook():\n",
    "    from src.parserbase import SegBase"
   ]
  },
  {
   "cell_type": "code",
   "execution_count": 44,
   "metadata": {},
   "outputs": [],
   "source": [
    "class Sav:\n",
    "    \n",
    "    def __init__(self, filename:str):\n",
    "        self.filename = os.path.join(PKG_ROOT, 'saves', 'original', filename)\n",
    "        self.zipfile = zipfile.ZipFile(self.filename)\n",
    "        self.filelist = self.zipfile.namelist()\n",
    "        self.files = [self.zipfile.read(_) for _ in self.filelist]\n",
    "        self.gam_str = self.files[1].decode('latin')\n",
    "        self.gam_version = re.findall(r'GAME\\s*V\\d+\\.\\d+', self.gam_str)[0]  #always 'GAMEV2.0'\n",
    "        self.cre_version = re.findall(r'CRE\\s*V\\d+\\.\\d+', self.gam_str)[0]  #always 'CRE V1.0'\n",
    "        \n",
    "        "
   ]
  },
  {
   "cell_type": "code",
   "execution_count": 45,
   "metadata": {},
   "outputs": [],
   "source": [
    "a = Sav('pstsave.pstsave')"
   ]
  },
  {
   "cell_type": "code",
   "execution_count": 343,
   "metadata": {},
   "outputs": [],
   "source": [
    "s = '''<div id=\"mlevel1\">\n",
    "      SPWI101 Chromatic Orb<br />\n",
    "      SPWI102 Armor<br />\n",
    "      SPWI103 Minor Embalming<br />\n",
    "      SPWI104 Fist of Iron<br />\n",
    "      SPWI105 Identify<br />\n",
    "      SPWI107 Magic Missile<br />\n",
    "      SPWI108 Pacify<br />\n",
    "      SPWI111 Shield<br />\n",
    "      SPWI113 Missile of Patience<br />\n",
    "      SPWI114 Friends<br />\n",
    "      SPWI115 Blindness<br />\n",
    "      SPWI116 Tongues of Flame<br />\n",
    "      SPWI117 Seeking Flames<br />\n",
    "      SPWI118 Scripture of Steel<br />\n",
    "      SPWI119 Submerge the Will<br />\n",
    "    </div>\n",
    "    <div id=\"mlevel2\">\n",
    "      SPWI120 Viquar's Eye<br />\n",
    "      SPWI121 Reign of Anger<br />\n",
    "      SPWI201 Adder's Kiss<br />\n",
    "      SPWI202 Black-Barbed Curse<br />\n",
    "      SPWI203 Black-Barbed Shield<br />\n",
    "      SPWI204 Blood Bridge<br />\n",
    "      SPWI205 Greater Embalming<br />\n",
    "      SPWI207 Ice Knife<br />\n",
    "      SPWI209 Pain Mirror<br />\n",
    "      SPWI211 Strength<br />\n",
    "      SPWI212 Swarm Curse<br />\n",
    "      SPWI213 Horror<br />\n",
    "      SPWI214 Luck<br />\n",
    "      SPWI215 Knock<br />\n",
    "      SPWI216 Blur<br />\n",
    "      SPWI217 Ignus' Terror<br />\n",
    "      SPWI218 Infernal Orb<br />\n",
    "      SPWI219 Power of One<br />\n",
    "    </div>\n",
    "    <div id=\"mlevel3\">\n",
    "      SPWI301 Ball Lightning<br />\n",
    "      SPWI304 Cloak of Warding<br />\n",
    "      SPWI305 Elysium's Tears<br />\n",
    "      SPWI307 Hold Undead<br />\n",
    "      SPWI308 Tasha's Unbearable Derisive Laughter<br />\n",
    "      SPWI309 Vampiric Touch<br />\n",
    "      SPWI310 Ax of Torment<br />\n",
    "      SPWI311 Zerthimon's Focus<br />\n",
    "      SPWI312 Infernal Shield<br />\n",
    "      SPWI313 Fiery Rain<br />\n",
    "      SPWI314 Balance in all Things<br />\n",
    "    </div>\n",
    "    <div id=\"mlevel4\">\n",
    "      SPWI401 Blacksphere<br />\n",
    "      SPWI402 Confusion<br />\n",
    "      SPWI405 Force Missiles<br />\n",
    "      SPWI406 Improved Strength<br />\n",
    "      SPWI408 Shroud of Shadows<br />\n",
    "      SPWI409 Remove Curse<br />\n",
    "      SPWI410 Elemental Strike<br />\n",
    "    </div>\n",
    "    <div id=\"mlevel5\">\n",
    "      SPWI501 Cloudkill<br />\n",
    "      SPWI502 Cone of Cold<br />\n",
    "      SPWI504 Enoll Eva's Duplication<br />\n",
    "      SPWI505 Desert Hell<br />\n",
    "      SPWI506 Fire and Ice<br />\n",
    "    </div>\n",
    "    <div id=\"mlevel6\">\n",
    "      SPWI601 Antimagic Shell<br />\n",
    "      SPWI602 Globe of Invulnerability<br />\n",
    "      SPWI603 Howl of Pandemonium<br />\n",
    "      SPWI604 Chain Lightning Storm<br />\n",
    "    </div>\n",
    "    <div id=\"mlevel7\">\n",
    "      SPWI701 Acid Storm<br />\n",
    "      SPWI702 Bladestorm<br />\n",
    "      SPWI704 Guardian Mantle<br />\n",
    "      SPWI705 Stygian Ice Storm<br />\n",
    "    </div>\n",
    "    <div id=\"mlevel8\">\n",
    "      SPWI802 Meteor Storm Bombardment<br />\n",
    "      SPWI803 Deathbolt<br />\n",
    "      SPWI804 Ignus' Fury<br />\n",
    "      SPWI805 Power Word: Blind<br />\n",
    "      SPWI807 Mechanus' Cannon<br />\n",
    "    </div>\n",
    "    <div id=\"mlevel9\">\n",
    "      SPWI901 Celestial Host<br />\n",
    "      SPWI902 Conflagration<br />\n",
    "      SPWI905 Elysium's Fires<br />\n",
    "      SPWI909 Power Word: Kill<br />\n",
    "      SPWI912 Abyssal Fury<br />\n",
    "      SPWI914 Rune of Torment<br />\n",
    "    </div>\n",
    "    <br />\n",
    "    <br />\n",
    "    <div id=\"plevel1\">\n",
    "      SPPR101 Blessing<br />\n",
    "      SPPR102 Cure Light Wounds<br />\n",
    "      SPPR103 Curse<br />\n",
    "      SPPR104 Detect Evil<br />\n",
    "      SPPR105 Halo of Lesser Revelation<br />\n",
    "      SPPR106 Protection from Evil<br />\n",
    "    </div>\n",
    "    <div id=\"plevel2\">\n",
    "      SPPR201 Aid<br />\n",
    "      SPPR202 Cure Moderate Wounds<br />\n",
    "      SPPR204 Spiritual Hammer<br />\n",
    "    </div>\n",
    "    <div id=\"plevel3\">\n",
    "      SPPR301 Call Lightning<br />\n",
    "      SPPR302 Flamewalk<br />\n",
    "      SPPR303 Prayer<br />\n",
    "      SPPR304 Speak With Dead<br />\n",
    "      SPPR307 Remove Curse<br />\n",
    "    </div>\n",
    "    <div id=\"plevel4\">\n",
    "      SPPR401 Cure Serious Wounds<br />\n",
    "    </div>\n",
    "    <div id=\"plevel5\">\n",
    "      SPPR501 Cure Critical Wounds<br />\n",
    "      SPPR502 Raise Dead<br />\n",
    "    </div>\n",
    "    <div id=\"plevel6\">\n",
    "      SPPR601 Heal<br />\n",
    "    </div>\n",
    "    <br />\n",
    "    <br />\n",
    "    <div id=\"traps\">\n",
    "      Traps<br />\n",
    "      SPWI001 Arrow Strike Trap<br />\n",
    "      SPWI002 Dart Trap<br />\n",
    "      SPWI003 Spinning Blades Trap<br />\n",
    "      SPWI004 Avernus Fireball Trap<br />\n",
    "      SPWI005 Flame Tongue Trap<br />\n",
    "      SPWI006 Acid Rain Trap<br />\n",
    "      SPWI007 Unholy Baptism Trap<br />\n",
    "      SPWI008 Gas Cloud Trap<br />\n",
    "      SPWI009 Spikes Trap<br />\n",
    "      SPWI010 Improved Acid Rain Trap<br />\n",
    "    </div>\n",
    "    <br />\n",
    "    <div id=\"innate\">\n",
    "      Innate<br />\n",
    "      SPIN101 Litany of Curses<br />\n",
    "      SPIN102 Skull Mob<br />\n",
    "      SPIN103 Stories-Bones-Tell\n",
    "      SPIN104 Sensory Touch<br />\n",
    "      SPIN106 Fiend Fear Aura<br />\n",
    "      SPIN107 Kiss (called Kiss of Death in SPELL.IDS)<br />\n",
    "      SPIN108 Raise Dead<br />\n",
    "    </div>\n",
    "    <br />\n",
    "    <div id=\"special\">\n",
    "      Special<br />\n",
    "      SPIN001 Add Litany of Curses<br />\n",
    "      SPIN002 Removed Litany of Curses<br />\n",
    "      SPIN003 Add Skull Mob<br />\n",
    "      SPIN004 Remove Skull Mob<br />\n",
    "      SPIN005 Add Stories-Bones-Tell<br />\n",
    "      SPIN006 Remove Stories-Bones-Tell<br />\n",
    "      SPIN007 Add Sensory Touch<br />\n",
    "      SPIN008 Remove Sensory Touch<br />\n",
    "      SPIN009 Add Kiss<br />\n",
    "      SPIN010 Remove Kiss<br />\n",
    "      SPIN011 Tint Screen<br />\n",
    "      SPIN012 Jumble Curse<br />\n",
    "      SPIN013 Dispel Jumble Curse<br />\n",
    "      SPIN014 Add Raise Dead<br />\n",
    "      SPIN015 Remove Raise Dead<br />\n",
    "    </div>'''"
   ]
  },
  {
   "cell_type": "code",
   "execution_count": 344,
   "metadata": {},
   "outputs": [],
   "source": [
    "df = pd.DataFrame(re.findall('(?P<SpellCode>\\w+\\d+)\\s*(?P<Spell>.*)', BeautifulSoup(s).text), columns = ['SpellCode', 'Spell'])\n",
    "df.insert(0, 'Class', df.SpellCode.apply(lambda x: {'SPWI': 'MAGE', 'SPPR':'CLERIC', 'SPIN':'INNATE', 'SPWM': 'WILDMAGE'}.get(re.split('\\d+', x)[0])))\n",
    "                  "
   ]
  },
  {
   "cell_type": "code",
   "execution_count": 345,
   "metadata": {},
   "outputs": [],
   "source": [
    "df.Spell = df.Spell.apply(lambda x: re.sub('[^0-9a-zA-Z]', '_', x).replace('__', '_').strip('_'))"
   ]
  },
  {
   "cell_type": "code",
   "execution_count": 348,
   "metadata": {},
   "outputs": [],
   "source": [
    "df.reset_index(drop=True).to_csv(os.path.join(PKG_ROOT, 'resources', 'PSTEE', 'Spell.csv'))"
   ]
  },
  {
   "cell_type": "code",
   "execution_count": 296,
   "metadata": {},
   "outputs": [],
   "source": [
    "df1 = pd.read_csv(os.path.join(PKG_ROOT, 'resources', 'BGEE', 'HLA.csv'), index_col=0)"
   ]
  },
  {
   "cell_type": "code",
   "execution_count": 327,
   "metadata": {},
   "outputs": [],
   "source": [
    "pd.concat([df, df1]).drop_duplicates().reset_index().to_csv(os.path.join(PKG_ROOT, 'resources', 'IWD', 'Spell.csv'))"
   ]
  },
  {
   "cell_type": "code",
   "execution_count": 326,
   "metadata": {},
   "outputs": [
    {
     "data": {
      "text/html": [
       "<div>\n",
       "<style scoped>\n",
       "    .dataframe tbody tr th:only-of-type {\n",
       "        vertical-align: middle;\n",
       "    }\n",
       "\n",
       "    .dataframe tbody tr th {\n",
       "        vertical-align: top;\n",
       "    }\n",
       "\n",
       "    .dataframe thead th {\n",
       "        text-align: right;\n",
       "    }\n",
       "</style>\n",
       "<table border=\"1\" class=\"dataframe\">\n",
       "  <thead>\n",
       "    <tr style=\"text-align: right;\">\n",
       "      <th></th>\n",
       "      <th>Class</th>\n",
       "      <th>SpellCode</th>\n",
       "      <th>Spell</th>\n",
       "    </tr>\n",
       "  </thead>\n",
       "  <tbody>\n",
       "  </tbody>\n",
       "</table>\n",
       "</div>"
      ],
      "text/plain": [
       "Empty DataFrame\n",
       "Columns: [Class, SpellCode, Spell]\n",
       "Index: []"
      ]
     },
     "execution_count": 326,
     "metadata": {},
     "output_type": "execute_result"
    }
   ],
   "source": [
    "df2 = pd.concat([df, df1])\n",
    "df2[df2.duplicated()]"
   ]
  },
  {
   "cell_type": "code",
   "execution_count": 313,
   "metadata": {},
   "outputs": [
    {
     "data": {
      "text/html": [
       "<div>\n",
       "<style scoped>\n",
       "    .dataframe tbody tr th:only-of-type {\n",
       "        vertical-align: middle;\n",
       "    }\n",
       "\n",
       "    .dataframe tbody tr th {\n",
       "        vertical-align: top;\n",
       "    }\n",
       "\n",
       "    .dataframe thead th {\n",
       "        text-align: right;\n",
       "    }\n",
       "</style>\n",
       "<table border=\"1\" class=\"dataframe\">\n",
       "  <thead>\n",
       "    <tr style=\"text-align: right;\">\n",
       "      <th></th>\n",
       "      <th>Class</th>\n",
       "      <th>SpellCode</th>\n",
       "      <th>Spell</th>\n",
       "    </tr>\n",
       "  </thead>\n",
       "  <tbody>\n",
       "    <tr>\n",
       "      <th>375</th>\n",
       "      <td>WILDMAGE</td>\n",
       "      <td>SPWM140</td>\n",
       "      <td>Drain_Item_Charges</td>\n",
       "    </tr>\n",
       "  </tbody>\n",
       "</table>\n",
       "</div>"
      ],
      "text/plain": [
       "        Class SpellCode               Spell\n",
       "375  WILDMAGE   SPWM140  Drain_Item_Charges"
      ]
     },
     "execution_count": 313,
     "metadata": {},
     "output_type": "execute_result"
    }
   ],
   "source": [
    "df[df.duplicated()]"
   ]
  },
  {
   "cell_type": "code",
   "execution_count": 336,
   "metadata": {},
   "outputs": [],
   "source": [
    "df = pd.read_csv(os.path.join(PKG_ROOT, 'resources', 'BGEE', 'Spell.csv'), index_col=0)"
   ]
  },
  {
   "cell_type": "code",
   "execution_count": 338,
   "metadata": {},
   "outputs": [],
   "source": [
    "df.drop('index',axis=1).reset_index(drop=True).to_csv(os.path.join(PKG_ROOT, 'resources', 'BGEE', 'Spell.csv'))"
   ]
  },
  {
   "cell_type": "code",
   "execution_count": 349,
   "metadata": {},
   "outputs": [
    {
     "data": {
      "text/plain": [
       "'/Users/CIDER/工作/Python程序/游戏/博德之门/New'"
      ]
     },
     "execution_count": 349,
     "metadata": {},
     "output_type": "execute_result"
    }
   ],
   "source": [
    "PKG_ROOT"
   ]
  },
  {
   "cell_type": "code",
   "execution_count": null,
   "metadata": {},
   "outputs": [],
   "source": []
  }
 ],
 "metadata": {
  "kernelspec": {
   "display_name": "pyworks",
   "language": "python",
   "name": "python3"
  },
  "language_info": {
   "codemirror_mode": {
    "name": "ipython",
    "version": 3
   },
   "file_extension": ".py",
   "mimetype": "text/x-python",
   "name": "python",
   "nbconvert_exporter": "python",
   "pygments_lexer": "ipython3",
   "version": "3.8.13"
  },
  "orig_nbformat": 4,
  "vscode": {
   "interpreter": {
    "hash": "616803b2f19e1e9bcbf5ac8abb36b7fd12ef6319f5b436273684431f9aa2d3e3"
   }
  }
 },
 "nbformat": 4,
 "nbformat_minor": 2
}
