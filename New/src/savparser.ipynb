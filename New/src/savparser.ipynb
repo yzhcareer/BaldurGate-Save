{
 "cells": [
  {
   "cell_type": "code",
   "execution_count": 1,
   "metadata": {},
   "outputs": [],
   "source": [
    "import os\n",
    "import sys\n",
    "from importnb import Notebook\n",
    "import re\n",
    "import pandas as pd\n",
    "import numpy as np\n",
    "import zipfile\n",
    "from enum import Enum\n",
    "import zlib\n",
    "from dataclasses import dataclass, make_dataclass, field\n",
    "from typing import Optional, Union, List, Callable\n",
    "from bs4 import BeautifulSoup\n",
    "\n",
    "PKG_ROOT = os.path.dirname(os.path.realpath(os.getcwd()))\n",
    "if not PKG_ROOT in sys.path:\n",
    "    sys.path.append(PKG_ROOT)\n",
    "    \n",
    "with Notebook():\n",
    "    from src.parserbase import GamCreBase, make_names, clean_duplicates, ValueBlock, SegBlock, TableBlock, BlockBase"
   ]
  },
  {
   "cell_type": "code",
   "execution_count": 2,
   "metadata": {},
   "outputs": [],
   "source": [
    "class Sav(GamCreBase):\n",
    "    \n",
    "    def __init__(self, savefile:str, game:str='BGEE'):\n",
    "        '''\n",
    "        Operation at SAV level is simple, so integrated with GAM which is an implementation of GamCreBase\n",
    "        Be careful of namespace of Sav class and GamCreBase class overlapping\n",
    "        '''\n",
    "        self.savefile = os.path.join(PKG_ROOT, 'saves', 'original', savefile)\n",
    "        resourceDir = os.path.join(PKG_ROOT, 'resources', game)\n",
    "        self.zipfile = zipfile.ZipFile(self.savefile)\n",
    "        self.filelist = self.zipfile.namelist()\n",
    "        self.files = [self.zipfile.read(_) for _ in self.filelist]\n",
    "        self.gamStr = self.files[1].decode('latin')\n",
    "        self.gamBuffer = bytearray(self.files[1])\n",
    "        self.gamVersion = re.findall(r'GAME\\s*V\\d+\\.\\d+', self.gamStr)[0]  #always 'GAMEV2.0'\n",
    "        self.creVersion = re.findall(r'CRE\\s*V\\d+\\.\\d+', self.gamStr)[0]  #always 'CRE V1.0'\n",
    "        super().__init__(resourceDir=resourceDir\n",
    "                         ,buffer=self.gamBuffer\n",
    "                         ,valueRecords=pd.read_csv(os.path.join(resourceDir, 'GAMVALUES.csv'), index_col=0)\n",
    "                         ,segRecords=pd.read_csv(os.path.join(resourceDir, 'GAMSEGS.csv'), index_col=0))  # to initiate GAM file\n",
    "        \n",
    "        \n",
    "        "
   ]
  },
  {
   "cell_type": "code",
   "execution_count": 3,
   "metadata": {},
   "outputs": [],
   "source": [
    "s = Sav('TESTSAVE.bg1save', 'BGEE')"
   ]
  },
  {
   "cell_type": "code",
   "execution_count": 4,
   "metadata": {},
   "outputs": [],
   "source": [
    "gamseg_df = pd.read_csv(os.path.join(PKG_ROOT,'resources', 'bgee', 'gamsegs.csv'), index_col=0)\n",
    "creseg_df = pd.read_csv(os.path.join(PKG_ROOT,'resources', 'bgee', 'cresegs.csv'), index_col=0)\n",
    "cretable_df = pd.read_csv(os.path.join(PKG_ROOT,'resources', 'bgee', 'cretables.csv'), index_col=0)\n",
    "res_df = pd.read_csv(os.path.join(PKG_ROOT,'resources', 'formats', 'refkeywords.csv'), index_col=0)"
   ]
  },
  {
   "cell_type": "code",
   "execution_count": 5,
   "metadata": {},
   "outputs": [],
   "source": [
    "c = s.SEGS.Party.CRES[0]"
   ]
  },
  {
   "cell_type": "code",
   "execution_count": 6,
   "metadata": {},
   "outputs": [
    {
     "data": {
      "text/html": [
       "<div>\n",
       "<style scoped>\n",
       "    .dataframe tbody tr th:only-of-type {\n",
       "        vertical-align: middle;\n",
       "    }\n",
       "\n",
       "    .dataframe tbody tr th {\n",
       "        vertical-align: top;\n",
       "    }\n",
       "\n",
       "    .dataframe thead th {\n",
       "        text-align: right;\n",
       "    }\n",
       "</style>\n",
       "<table border=\"1\" class=\"dataframe\">\n",
       "  <thead>\n",
       "    <tr style=\"text-align: right;\">\n",
       "      <th></th>\n",
       "      <th>ClassCode</th>\n",
       "      <th>Class</th>\n",
       "    </tr>\n",
       "  </thead>\n",
       "  <tbody>\n",
       "    <tr>\n",
       "      <th>0</th>\n",
       "      <td>1</td>\n",
       "      <td>MAGE</td>\n",
       "    </tr>\n",
       "    <tr>\n",
       "      <th>1</th>\n",
       "      <td>2</td>\n",
       "      <td>FIGHTER</td>\n",
       "    </tr>\n",
       "    <tr>\n",
       "      <th>2</th>\n",
       "      <td>3</td>\n",
       "      <td>CLERIC</td>\n",
       "    </tr>\n",
       "    <tr>\n",
       "      <th>3</th>\n",
       "      <td>4</td>\n",
       "      <td>THIEF</td>\n",
       "    </tr>\n",
       "    <tr>\n",
       "      <th>4</th>\n",
       "      <td>5</td>\n",
       "      <td>BARD</td>\n",
       "    </tr>\n",
       "    <tr>\n",
       "      <th>...</th>\n",
       "      <td>...</td>\n",
       "      <td>...</td>\n",
       "    </tr>\n",
       "    <tr>\n",
       "      <th>136</th>\n",
       "      <td>220</td>\n",
       "      <td>GREEN_DRAGON</td>\n",
       "    </tr>\n",
       "    <tr>\n",
       "      <th>137</th>\n",
       "      <td>221</td>\n",
       "      <td>SOD_TMP</td>\n",
       "    </tr>\n",
       "    <tr>\n",
       "      <th>138</th>\n",
       "      <td>222</td>\n",
       "      <td>SPECTRAL_TROLL</td>\n",
       "    </tr>\n",
       "    <tr>\n",
       "      <th>139</th>\n",
       "      <td>223</td>\n",
       "      <td>WIGHT</td>\n",
       "    </tr>\n",
       "    <tr>\n",
       "      <th>140</th>\n",
       "      <td>255</td>\n",
       "      <td>NO_CLASS</td>\n",
       "    </tr>\n",
       "  </tbody>\n",
       "</table>\n",
       "<p>141 rows × 2 columns</p>\n",
       "</div>"
      ],
      "text/plain": [
       "     ClassCode           Class\n",
       "0            1            MAGE\n",
       "1            2         FIGHTER\n",
       "2            3          CLERIC\n",
       "3            4           THIEF\n",
       "4            5            BARD\n",
       "..         ...             ...\n",
       "136        220    GREEN_DRAGON\n",
       "137        221         SOD_TMP\n",
       "138        222  SPECTRAL_TROLL\n",
       "139        223           WIGHT\n",
       "140        255        NO_CLASS\n",
       "\n",
       "[141 rows x 2 columns]"
      ]
     },
     "execution_count": 6,
     "metadata": {},
     "output_type": "execute_result"
    }
   ],
   "source": [
    "c.TABLES.Class.refTable"
   ]
  },
  {
   "cell_type": "code",
   "execution_count": null,
   "metadata": {},
   "outputs": [],
   "source": []
  }
 ],
 "metadata": {
  "kernelspec": {
   "display_name": "pyworks",
   "language": "python",
   "name": "python3"
  },
  "language_info": {
   "codemirror_mode": {
    "name": "ipython",
    "version": 3
   },
   "file_extension": ".py",
   "mimetype": "text/x-python",
   "name": "python",
   "nbconvert_exporter": "python",
   "pygments_lexer": "ipython3",
   "version": "3.8.13"
  },
  "orig_nbformat": 4,
  "vscode": {
   "interpreter": {
    "hash": "616803b2f19e1e9bcbf5ac8abb36b7fd12ef6319f5b436273684431f9aa2d3e3"
   }
  }
 },
 "nbformat": 4,
 "nbformat_minor": 2
}
