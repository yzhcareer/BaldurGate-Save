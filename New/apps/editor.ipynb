{
 "cells": [
  {
   "cell_type": "code",
   "execution_count": 1,
   "metadata": {},
   "outputs": [],
   "source": [
    "import os\n",
    "import sys\n",
    "import re\n",
    "import pandas as pd\n",
    "import numpy as np\n",
    "from enum import Enum\n",
    "import zipfile\n",
    "from typing import Optional, Union, List, Callable, Dict, Tuple\n",
    "from dataclasses import dataclass, make_dataclass, field\n",
    "from abc import ABC\n",
    "from importnb import Notebook\n",
    "\n",
    "PKG_ROOT = os.path.dirname(os.path.realpath(os.getcwd()))\n",
    "if not PKG_ROOT in sys.path:\n",
    "    sys.path.append(PKG_ROOT)"
   ]
  },
  {
   "cell_type": "code",
   "execution_count": 2,
   "metadata": {},
   "outputs": [],
   "source": [
    "with Notebook():\n",
    "    from src.basestructs import *\n",
    "    from src.baseblocks import *\n",
    "    from src.basesegs import *\n",
    "    from src.basefiles import *"
   ]
  },
  {
   "cell_type": "code",
   "execution_count": 7,
   "metadata": {},
   "outputs": [],
   "source": [
    "s1 = Sav('goodstart.bg1save', 'BGEE')"
   ]
  },
  {
   "cell_type": "code",
   "execution_count": 9,
   "metadata": {},
   "outputs": [],
   "source": [
    "s1.optimize()"
   ]
  },
  {
   "cell_type": "code",
   "execution_count": 10,
   "metadata": {},
   "outputs": [],
   "source": [
    "s1.Party[0].Items.assign(s1.get_optim(s1.OPTIM_ITEM, ['FIGHTER', 'THIEF']), repeatCol=None)\n",
    "s1.Party[1].Items.assign(s1.get_optim(s1.OPTIM_ITEM, ['FIGHTER', 'THIEF']), repeatCol=None)\n",
    "s1.Party[2].Items.assign(s1.get_optim(s1.OPTIM_ITEM, ['CLERIC', 'WIZARD']), repeatCol=None)\n",
    "s1.Party[3].Items.assign(s1.get_optim(s1.OPTIM_ITEM, ['CLERIC', 'WIZARD']), repeatCol=None)"
   ]
  },
  {
   "cell_type": "code",
   "execution_count": 22,
   "metadata": {},
   "outputs": [],
   "source": [
    "s1.Party[0].Race.set_value(s1.RACE.DWARF)\n",
    "s1.Party[0].Class.set_value(s1.CLASS.FIGHTER_DRUID)\n",
    "s1.Party[1].Class.set_value(s1.CLASS.CLERIC_RANGER)\n",
    "s1.Party[2].Class.set_value(s1.CLASS.FIGHTER_MAGE_THIEF)\n",
    "s1.Party[3].Class.set_value(s1.CLASS.FIGHTER_MAGE_THIEF)"
   ]
  },
  {
   "cell_type": "code",
   "execution_count": 23,
   "metadata": {},
   "outputs": [],
   "source": [
    "s1.Party[0].KnownSpells.assign(s1.get_optim(s1.OPTIM_KNOWNSPELL, ['CLERIC', 'FIGHTER', 'DRUID']), repeatCol=None)\n",
    "s1.Party[1].KnownSpells.assign(s1.get_optim(s1.OPTIM_KNOWNSPELL, ['CLERIC', 'RANGER' , 'ARHCER']), repeatCol=None)\n",
    "s1.Party[2].KnownSpells.assign(s1.get_optim(s1.OPTIM_KNOWNSPELL, ['WIZARD', 'FIGHTER', 'THIEF']), repeatCol=None)\n",
    "s1.Party[3].KnownSpells.assign(s1.get_optim(s1.OPTIM_KNOWNSPELL, ['WIZARD', 'FIGHTER', 'THIEF']), repeatCol=None)"
   ]
  },
  {
   "cell_type": "code",
   "execution_count": 24,
   "metadata": {},
   "outputs": [],
   "source": [
    "s1.Party[0].MemorizedSpells.assign(s1.get_optim(s1.OPTIM_SPELLMEM, ['CLERIC', 'FIGHTER', 'DRUID']))\n",
    "s1.Party[1].MemorizedSpells.assign(s1.get_optim(s1.OPTIM_SPELLMEM, ['CLERIC', 'RANGER', 'ARCHER']))\n",
    "s1.Party[2].MemorizedSpells.assign(s1.get_optim(s1.OPTIM_SPELLMEM, ['WIZARD', 'FIGHTER', 'THIEF']))\n",
    "s1.Party[3].MemorizedSpells.assign(s1.get_optim(s1.OPTIM_SPELLMEM, ['WIZARD', 'FIGHTER', 'THIEF']))"
   ]
  },
  {
   "cell_type": "code",
   "execution_count": 25,
   "metadata": {},
   "outputs": [],
   "source": [
    "s1.Party[0].Effects.assign(s1.get_optim(s1.OPTIM_EFFECT, ['CLERIC', 'FIGHTER', 'DRUID']), repeatCol=-1)\n",
    "s1.Party[1].Effects.assign(s1.get_optim(s1.OPTIM_EFFECT, ['CLERIC', 'RANGER']), repeatCol=-1)\n",
    "s1.Party[2].Effects.assign(s1.get_optim(s1.OPTIM_EFFECT, ['WIZARD', 'FIGHTER', 'THIEF']), repeatCol=-1)\n",
    "s1.Party[3].Effects.assign(s1.get_optim(s1.OPTIM_EFFECT, ['WIZARD', 'FIGHTER', 'THIEF']), repeatCol=-1)"
   ]
  },
  {
   "cell_type": "code",
   "execution_count": 26,
   "metadata": {},
   "outputs": [],
   "source": [
    "s1.pack()"
   ]
  },
  {
   "cell_type": "code",
   "execution_count": null,
   "metadata": {},
   "outputs": [],
   "source": []
  }
 ],
 "metadata": {
  "kernelspec": {
   "display_name": "pyworks",
   "language": "python",
   "name": "python3"
  },
  "language_info": {
   "codemirror_mode": {
    "name": "ipython",
    "version": 3
   },
   "file_extension": ".py",
   "mimetype": "text/x-python",
   "name": "python",
   "nbconvert_exporter": "python",
   "pygments_lexer": "ipython3",
   "version": "3.8.13"
  },
  "orig_nbformat": 4
 },
 "nbformat": 4,
 "nbformat_minor": 2
}
