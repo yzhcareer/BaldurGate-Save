{
 "cells": [
  {
   "cell_type": "code",
   "execution_count": 1,
   "metadata": {},
   "outputs": [],
   "source": [
    "import os\n",
    "import sys\n",
    "import re\n",
    "import pandas as pd\n",
    "import numpy as np\n",
    "from enum import Enum\n",
    "import zipfile\n",
    "from typing import Optional, Union, List, Callable, Dict, Tuple\n",
    "from dataclasses import dataclass, make_dataclass, field\n",
    "from abc import ABC\n",
    "from importnb import Notebook\n",
    "\n",
    "PKG_ROOT = os.path.dirname(os.path.realpath(os.getcwd()))\n",
    "if not PKG_ROOT in sys.path:\n",
    "    sys.path.append(PKG_ROOT)"
   ]
  },
  {
   "cell_type": "code",
   "execution_count": 2,
   "metadata": {},
   "outputs": [],
   "source": [
    "with Notebook():\n",
    "    from src.basestructs import *\n",
    "    from src.baseblocks import *\n",
    "    from src.basesegs import *\n",
    "    from src.basefiles import *"
   ]
  },
  {
   "cell_type": "code",
   "execution_count": 3,
   "metadata": {},
   "outputs": [],
   "source": [
    "s1 = Sav('Testsave.bg1save', 'BGEE')"
   ]
  },
  {
   "cell_type": "code",
   "execution_count": 4,
   "metadata": {},
   "outputs": [],
   "source": [
    "s1.optimize()\n",
    "for _ in s1.Party:\n",
    "    _.Items.assign(s1.get_optim(s1.OPTIM_ITEM), repeatCol=None)"
   ]
  },
  {
   "cell_type": "code",
   "execution_count": 5,
   "metadata": {},
   "outputs": [],
   "source": [
    "s1.Party[0].KnownSpells.assign(s1.get_optim(s1.OPTIM_KNOWNSPELL, ['CLERIC', 'RANGER']), repeatCol=None)\n",
    "s1.Party[1].KnownSpells.assign(s1.get_optim(s1.OPTIM_KNOWNSPELL, ['CLERIC', 'FIGHTER', 'DRUID']), repeatCol=None)\n",
    "s1.Party[2].KnownSpells.assign(s1.get_optim(s1.OPTIM_KNOWNSPELL, ['WIZARD', 'FIGHTER', 'THIEF']), repeatCol=None)\n",
    "s1.Party[3].KnownSpells.assign(s1.get_optim(s1.OPTIM_KNOWNSPELL, ['WIZARD', 'FIGHTER', 'THIEF']), repeatCol=None)"
   ]
  },
  {
   "cell_type": "code",
   "execution_count": 6,
   "metadata": {},
   "outputs": [],
   "source": [
    "s1.Party[0].MemorizedSpells.assign(s1.get_optim(s1.OPTIM_SPELLMEM, ['CLERIC', 'RANGER']))\n",
    "s1.Party[1].MemorizedSpells.assign(s1.get_optim(s1.OPTIM_SPELLMEM, ['CLERIC', 'FIGHTER', 'DRUID']))\n",
    "s1.Party[2].MemorizedSpells.assign(s1.get_optim(s1.OPTIM_SPELLMEM, ['WIZARD', 'FIGHTER', 'THIEF']))\n",
    "s1.Party[3].MemorizedSpells.assign(s1.get_optim(s1.OPTIM_SPELLMEM, ['WIZARD', 'FIGHTER', 'THIEF']))"
   ]
  },
  {
   "cell_type": "code",
   "execution_count": 7,
   "metadata": {},
   "outputs": [],
   "source": [
    "s1.Party[0].Effects.assign(s1.get_optim(s1.OPTIM_EFFECT, ['CLERIC', 'RANGER']), repeatCol=-1)\n",
    "s1.Party[1].Effects.assign(s1.get_optim(s1.OPTIM_EFFECT, ['CLERIC', 'FIGHTER', 'DRUID']), repeatCol=-1)\n",
    "s1.Party[2].Effects.assign(s1.get_optim(s1.OPTIM_EFFECT, ['WIZARD', 'FIGHTER', 'THIEF']), repeatCol=-1)\n",
    "s1.Party[3].Effects.assign(s1.get_optim(s1.OPTIM_EFFECT, ['WIZARD', 'FIGHTER', 'THIEF']), repeatCol=-1)"
   ]
  },
  {
   "cell_type": "code",
   "execution_count": 8,
   "metadata": {},
   "outputs": [],
   "source": [
    "s1.pack()"
   ]
  }
 ],
 "metadata": {
  "kernelspec": {
   "display_name": "pyworks",
   "language": "python",
   "name": "python3"
  },
  "language_info": {
   "codemirror_mode": {
    "name": "ipython",
    "version": 3
   },
   "file_extension": ".py",
   "mimetype": "text/x-python",
   "name": "python",
   "nbconvert_exporter": "python",
   "pygments_lexer": "ipython3",
   "version": "3.8.13"
  },
  "orig_nbformat": 4
 },
 "nbformat": 4,
 "nbformat_minor": 2
}
